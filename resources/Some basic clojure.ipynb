{
 "cells": [
  {
   "cell_type": "markdown",
   "metadata": {},
   "source": [
    "# Basic clojure"
   ]
  },
  {
   "cell_type": "code",
   "execution_count": 1,
   "metadata": {},
   "outputs": [
    {
     "data": {
      "text/plain": [
       "3"
      ]
     },
     "execution_count": 1,
     "metadata": {},
     "output_type": "execute_result"
    }
   ],
   "source": [
    ";; This is a comment\n",
    "(+ 1 2)"
   ]
  },
  {
   "cell_type": "code",
   "execution_count": 2,
   "metadata": {},
   "outputs": [
    {
     "data": {
      "text/plain": [
       "(+ 1 2)"
      ]
     },
     "execution_count": 2,
     "metadata": {},
     "output_type": "execute_result"
    }
   ],
   "source": [
    ";; This is a literal\n",
    "'(+ 1 2)"
   ]
  },
  {
   "cell_type": "code",
   "execution_count": 3,
   "metadata": {},
   "outputs": [
    {
     "data": {
      "text/plain": [
       "6"
      ]
     },
     "execution_count": 3,
     "metadata": {},
     "output_type": "execute_result"
    }
   ],
   "source": [
    ";; define <=> def\n",
    "(def x 3)\n",
    "(+ x x)"
   ]
  },
  {
   "cell_type": "code",
   "execution_count": 4,
   "metadata": {},
   "outputs": [
    {
     "data": {
      "text/plain": [
       "3"
      ]
     },
     "execution_count": 4,
     "metadata": {},
     "output_type": "execute_result"
    }
   ],
   "source": [
    "x"
   ]
  },
  {
   "cell_type": "code",
   "execution_count": 5,
   "metadata": {},
   "outputs": [
    {
     "data": {
      "text/plain": [
       "#'user/factorial"
      ]
     },
     "execution_count": 5,
     "metadata": {},
     "output_type": "execute_result"
    }
   ],
   "source": [
    ";; function\n",
    "(defn factorial \n",
    "    [n]\n",
    "    (if (= n 0)\n",
    "        1\n",
    "        (* n (factorial (dec n)))))"
   ]
  },
  {
   "cell_type": "code",
   "execution_count": 6,
   "metadata": {},
   "outputs": [
    {
     "name": "stdout",
     "output_type": "stream",
     "text": [
      "3628800\n"
     ]
    }
   ],
   "source": [
    "(println (factorial 10))"
   ]
  },
  {
   "cell_type": "code",
   "execution_count": 7,
   "metadata": {},
   "outputs": [
    {
     "data": {
      "text/plain": [
       "\"CLOJURE\""
      ]
     },
     "execution_count": 7,
     "metadata": {},
     "output_type": "execute_result"
    }
   ],
   "source": [
    ";; import some library\n",
    "(require '[clojure.string])\n",
    "(clojure.string/upper-case \"clojure\")"
   ]
  },
  {
   "cell_type": "code",
   "execution_count": 8,
   "metadata": {},
   "outputs": [],
   "source": [
    ";; (doc some?) (source some?) do not really work here in note book"
   ]
  },
  {
   "cell_type": "code",
   "execution_count": 10,
   "metadata": {},
   "outputs": [],
   "source": [
    "(require '[clojure.pprint :as pp])"
   ]
  },
  {
   "cell_type": "code",
   "execution_count": 13,
   "metadata": {},
   "outputs": [
    {
     "data": {
      "text/plain": [
       "#'user/number-summary"
      ]
     },
     "execution_count": 13,
     "metadata": {},
     "output_type": "execute_result"
    }
   ],
   "source": [
    "(defn number-summary\n",
    "  \"Computes a summary of the arithmetic properties of a number, as a data structure.\"\n",
    "  [n]\n",
    "  (let [proper-divisors (into (sorted-set)\n",
    "                          (filter\n",
    "                            (fn [d]\n",
    "                              (zero? (rem n d)))\n",
    "                            (range 1 n)))\n",
    "        divisors-sum (apply + proper-divisors)]\n",
    "    {:n n\n",
    "     :proper-divisors proper-divisors\n",
    "     :even? (even? n)\n",
    "     :prime? (= proper-divisors #{1})\n",
    "     :perfect-number? (= divisors-sum n)}))"
   ]
  },
  {
   "cell_type": "code",
   "execution_count": 14,
   "metadata": {},
   "outputs": [
    {
     "name": "stdout",
     "output_type": "stream",
     "text": [
      "[{:n 1,\n",
      "  :proper-divisors #{},\n",
      "  :even? false,\n",
      "  :prime? false,\n",
      "  :perfect-number? false}\n",
      " {:n 2,\n",
      "  :proper-divisors #{1},\n",
      "  :even? true,\n",
      "  :prime? true,\n",
      "  :perfect-number? false}\n",
      " {:n 3,\n",
      "  :proper-divisors #{1},\n",
      "  :even? false,\n",
      "  :prime? true,\n",
      "  :perfect-number? false}\n",
      " {:n 4,\n",
      "  :proper-divisors #{1 2},\n",
      "  :even? true,\n",
      "  :prime? false,\n",
      "  :perfect-number? false}]\n"
     ]
    }
   ],
   "source": [
    "(pp/pprint (mapv number-summary [1 2 3 4]))"
   ]
  },
  {
   "cell_type": "code",
   "execution_count": 15,
   "metadata": {},
   "outputs": [
    {
     "data": {
      "text/plain": [
       "#'user/double-op"
      ]
     },
     "execution_count": 15,
     "metadata": {},
     "output_type": "execute_result"
    }
   ],
   "source": [
    ";; Higer order functions\n",
    "(defn double-op\n",
    "    [f a b]\n",
    "    (* 2 (f a b)))\n"
   ]
  },
  {
   "cell_type": "code",
   "execution_count": 19,
   "metadata": {},
   "outputs": [
    {
     "name": "stdout",
     "output_type": "stream",
     "text": [
      "({:name \"Brown Beaters\", :genre :rock}\n",
      " {:name \"Foolish Beaters\", :genre :rock})\n"
     ]
    }
   ],
   "source": [
    "(def bands [\n",
    "            {:name \"Brown Beaters\"   :genre :rock}\n",
    "            {:name \"Sunday Sunshine\" :genre :blues}\n",
    "            {:name \"Foolish Beaters\" :genre :rock}\n",
    "            {:name \"Monday Blues\"    :genre :blues}\n",
    "            {:name \"Friday Fewer\"    :genre :blues}\n",
    "            {:name \"Saturday Stars\"  :genre :jazz}\n",
    "            {:name \"Sunday Brunch\"   :genre :jazz}])\n",
    "(def rock-bands \n",
    "    (filter \n",
    "     (fn [band] (= :rock (:genre band)))\n",
    "     bands))\n",
    "(pp/pprint rock-bands)"
   ]
  },
  {
   "cell_type": "code",
   "execution_count": 21,
   "metadata": {},
   "outputs": [
    {
     "name": "stdout",
     "output_type": "stream",
     "text": [
      "({:name \"Brown Beaters\", :genre :rock}\n",
      " {:name \"Foolish Beaters\", :genre :rock})\n"
     ]
    }
   ],
   "source": [
    "(def rock-bands1 (filter #(= :rock (:genre %)) bands))\n",
    "(pp/pprint rock-bands1)"
   ]
  },
  {
   "cell_type": "code",
   "execution_count": null,
   "metadata": {},
   "outputs": [],
   "source": []
  }
 ],
 "metadata": {
  "kernelspec": {
   "display_name": "Lein-Clojure",
   "language": "clojure",
   "name": "lein-clojure"
  },
  "language_info": {
   "file_extension": ".clj",
   "mimetype": "text/x-clojure",
   "name": "clojure",
   "version": "1.10.1"
  }
 },
 "nbformat": 4,
 "nbformat_minor": 4
}
