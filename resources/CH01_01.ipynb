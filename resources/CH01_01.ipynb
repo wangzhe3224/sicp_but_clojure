{
 "cells": [
  {
   "cell_type": "markdown",
   "metadata": {},
   "source": [
    "# Chapter 01 Build Abstraction with Procedures\n",
    "\n",
    "\n",
    "The original SICP was using Scheme (A Lisp dialect) as a demostration language. As mentioned in the book, Scheme was not a mainstream language (it is not today as well), but List (Scheme) has some good features to be used as the language for the book. I quote: \n",
    "> The most significant of these features is the fact that Lisp descriptions of processes, called procedures, can themselves be represented and manipulated as Lisp data. \n",
    "\n",
    "+\n",
    "\n",
    "> programming in Lisp is great fun.\n",
    "\n",
    "Now this project aims to use Clojure as the THE language as it keeps both above. Although clojure is not so popular as a language today, it gethered enough interest and runs on the most popuer virtural machine, JVM. \n",
    "\n",
    "This project only show code example and exercise solutions and minimal content to indicate what we are discussing **NOT** much about the content in the book. I will put comment to show some difference between Clojure and Scheme.\n",
    "\n",
    "## 1.1 The Element of Programming\n",
    "Every powerful language has three mechanisms for accomplishing this:\n",
    "- primitive expressions, which represent the simplest entities the language is concerned with,\n",
    "- means of combination, by which compound elements are built from simpler ones, and\n",
    "- meansofabstraction,bywhichcompoundelementscanbenamed and manipulated as units."
   ]
  },
  {
   "cell_type": "markdown",
   "metadata": {},
   "source": [
    "### 1.1.1 Expressions"
   ]
  },
  {
   "cell_type": "code",
   "execution_count": 1,
   "metadata": {
    "scrolled": true
   },
   "outputs": [
    {
     "name": "stdout",
     "output_type": "stream",
     "text": [
      "486\n",
      "5/2 This is cool fraction\n",
      "\n",
      "10\n",
      "5\n"
     ]
    }
   ],
   "source": [
    ";; 1.1.1 Expressions\n",
    "(println (+ 137 349))\n",
    "(println (/ 10 4) \"This is cool fraction\\n\")\n",
    "(println (+ 1 2 3 4))\n",
    "(println (+ (+ 1 2) (* 1 2)))"
   ]
  },
  {
   "cell_type": "markdown",
   "metadata": {},
   "source": [
    "### 1.1.2 Naming and the Environment"
   ]
  },
  {
   "cell_type": "code",
   "execution_count": 2,
   "metadata": {
    "scrolled": true
   },
   "outputs": [
    {
     "data": {
      "text/plain": [
       "10"
      ]
     },
     "execution_count": 2,
     "metadata": {},
     "output_type": "execute_result"
    }
   ],
   "source": [
    ";; (define size 2) in Scheme\n",
    ";; Clojure uses `def`\n",
    ";; def is the Clojure's simplest means of abstraction\n",
    "(def size 2)\n",
    "(def pi 3.14159)\n",
    "(def radius 10)\n",
    "(def circumference (* 2 pi radius))\n",
    "(* 5 size)"
   ]
  },
  {
   "cell_type": "markdown",
   "metadata": {},
   "source": [
    "### 1.1.3 Evaluating Combinations\n",
    "\n",
    "To evaluate a combination, do the following:\n",
    "\n",
    "- Evaluate the suexpressions of the combination\n",
    "- Apply the procedure that is the leftmost subexpression (the operator) to the arguments that are the value if the other subexpressions (the operands)"
   ]
  },
  {
   "cell_type": "code",
   "execution_count": 3,
   "metadata": {},
   "outputs": [
    {
     "data": {
      "text/plain": [
       "390"
      ]
     },
     "execution_count": 3,
     "metadata": {},
     "output_type": "execute_result"
    }
   ],
   "source": [
    ";; Evaluate combinations\n",
    "(* (+ 2 (* 4 6))\n",
    "   (+ 3 5 7))\n",
    ";; Note that (def x 3) is not a combination, it is a sepecial form"
   ]
  },
  {
   "cell_type": "markdown",
   "metadata": {},
   "source": [
    "### 1.1.4 Compound Procedures"
   ]
  },
  {
   "cell_type": "code",
   "execution_count": 4,
   "metadata": {},
   "outputs": [
    {
     "data": {
      "text/plain": [
       "136"
      ]
     },
     "execution_count": 4,
     "metadata": {},
     "output_type": "execute_result"
    }
   ],
   "source": [
    ";; Clojure use `defn` to define a procedure (function)\n",
    ";; Scheme use `define` to define a procedure\n",
    ";; There are some funcy ways to define function in clojure, but we won't need it yet\n",
    ";; Scheme: (define (square x) (* x x))\n",
    ";; Clojure: (defn name [params*] body)\n",
    "\n",
    "(defn square [x] (* x x))\n",
    "(defn sum-of-squares [x y]\n",
    "    (+ (square x) (square y)))\n",
    "(defn f [a] \n",
    "    (sum-of-squares (+ a 1) (* a 2)))\n",
    "\n",
    "(square 21)\n",
    "(square (square 21))\n",
    "(sum-of-squares 3 4)\n",
    "(f 5)"
   ]
  },
  {
   "cell_type": "markdown",
   "metadata": {},
   "source": [
    "### 1.1.5 Substitution Model for Procedure Application\n",
    "\n",
    "Question: is Clojure applicative order or normal order by default?\n",
    "(Check exercise 1.5)\n",
    "\n",
    "- applicative-order evaluation: evaluate the arguments and then apply\n",
    "- normal-order evaluation: fully expand and then reduce"
   ]
  },
  {
   "cell_type": "code",
   "execution_count": 5,
   "metadata": {},
   "outputs": [],
   "source": [
    ";; test "
   ]
  },
  {
   "cell_type": "markdown",
   "metadata": {},
   "source": [
    "### 1.1.6 Conditional Expression and Predicates"
   ]
  },
  {
   "cell_type": "code",
   "execution_count": 6,
   "metadata": {},
   "outputs": [
    {
     "data": {
      "text/plain": [
       "1"
      ]
     },
     "execution_count": 6,
     "metadata": {},
     "output_type": "execute_result"
    }
   ],
   "source": [
    "(defn abs [x]\n",
    "    (cond \n",
    "        (> x 0) x\n",
    "        (= x 0) 0\n",
    "        (< x 0) (- x)))\n",
    "(abs -1)"
   ]
  },
  {
   "cell_type": "code",
   "execution_count": 7,
   "metadata": {},
   "outputs": [
    {
     "data": {
      "text/plain": [
       "1"
      ]
     },
     "execution_count": 7,
     "metadata": {},
     "output_type": "execute_result"
    }
   ],
   "source": [
    "(defn abs [x]\n",
    "    (cond \n",
    "        (< x 0) (- x)\n",
    "        :else x)) ;; :else is a special symbol that used as a predicate\n",
    "(abs 1)"
   ]
  },
  {
   "cell_type": "code",
   "execution_count": 8,
   "metadata": {},
   "outputs": [
    {
     "data": {
      "text/plain": [
       "0"
      ]
     },
     "execution_count": 8,
     "metadata": {},
     "output_type": "execute_result"
    }
   ],
   "source": [
    ";; another way\n",
    "(defn abs [x]\n",
    "    (if (< x 0)\n",
    "        (- x)\n",
    "        x))\n",
    "(abs 0)"
   ]
  },
  {
   "cell_type": "code",
   "execution_count": 9,
   "metadata": {},
   "outputs": [
    {
     "data": {
      "text/plain": [
       "#'user/gte"
      ]
     },
     "execution_count": 9,
     "metadata": {},
     "output_type": "execute_result"
    }
   ],
   "source": [
    "(defn gte [x y]\n",
    "    (not (< x y)))"
   ]
  },
  {
   "cell_type": "markdown",
   "metadata": {},
   "source": [
    "**Exercises**"
   ]
  },
  {
   "cell_type": "code",
   "execution_count": 10,
   "metadata": {},
   "outputs": [
    {
     "name": "stdout",
     "output_type": "stream",
     "text": [
      "exercise 1.2:  -37/150\n"
     ]
    }
   ],
   "source": [
    ";; Exercise 1.2\n",
    "(def ex2 \n",
    "    (/ (+ 5 4 (- 2 (- 3 (+ 6 (/ 4 5)))))\n",
    "       (* 3 (- 6 2) (- 2 7))))\n",
    "\n",
    "(println \"exercise 1.2: \" ex2)"
   ]
  },
  {
   "cell_type": "code",
   "execution_count": 13,
   "metadata": {},
   "outputs": [
    {
     "data": {
      "text/plain": [
       "13"
      ]
     },
     "execution_count": 13,
     "metadata": {},
     "output_type": "execute_result"
    }
   ],
   "source": [
    ";; Exercise 1.3\n",
    "(defn ex3 [a b c]\n",
    "  (a [(square [n] (* n n))]\n",
    "    (- (apply + (map square (vector a b c)))\n",
    "       (square (min a b c)))))\n",
    "\n",
    "(ex3 1 2 3)"
   ]
  },
  {
   "cell_type": "code",
   "execution_count": 15,
   "metadata": {},
   "outputs": [
    {
     "name": "stdout",
     "output_type": "stream",
     "text": [
      "Execution error (StackOverflowError) at user/p (form-init11946438476195886758.clj:12).\n",
      "null\n"
     ]
    },
    {
     "ename": "class java.lang.StackOverflowError",
     "evalue": "",
     "output_type": "error",
     "traceback": []
    }
   ],
   "source": [
    ";; Exercise 1.4\n",
    ";; Note that expression can be evaluated to another\n",
    ";; procedure\n",
    "(if (> 1 0) - +)\n",
    "; #function[clojure.core/-]\n",
    "(defn a-plus-abs-b \n",
    "  [a b]\n",
    "  ((if (> b 0) + -) a b))\n",
    "\n",
    ";; Exercise 1.5\n",
    "(defn p []\n",
    "  (p))\n",
    "(defn test\n",
    "  [x y]\n",
    "  (if (= x 0) 0 y))\n",
    "\n",
    "(test 0 (p))\n",
    ";;(err) Execution error (StackOverflowError) \n",
    ";; Means Clojure is using applicative-order evaluation"
   ]
  },
  {
   "cell_type": "markdown",
   "metadata": {},
   "source": [
    "### 1.1.7 Example: Square Roots by Newton’s Method\n",
    "\n",
    "> Procedures must be effective.\n",
    "\n",
    "Procedures are imperative knowledge while mathematics are declarative knowledge.\n",
    "\n",
    "Newton’s method of successive approximations, which says that\n",
    "whenever we have a guess y for the value of the square root of a number\n",
    "x , we can perform a simple manipulation to get a better guess by averaging y with x/y"
   ]
  },
  {
   "cell_type": "code",
   "execution_count": 20,
   "metadata": {},
   "outputs": [
    {
     "data": {
      "text/plain": [
       "#'user/sqrt-iter-2"
      ]
     },
     "execution_count": 20,
     "metadata": {},
     "output_type": "execute_result"
    }
   ],
   "source": [
    "(defn abs [x] (if (<= x 0) (- x) x))\n",
    "\n",
    "(defn improve\n",
    "  [guess x]\n",
    "  (average guess (/ x guess)))\n",
    "\n",
    "(defn average [x y] (/ (+ x y) 2))\n",
    "\n",
    "(defn good-enough? [guess x]\n",
    "  (< (abs (- (* guess guess) x))\n",
    "     0.001))\n",
    "     \n",
    ";; 1.1.7 Example: Square Roots by Newton’s Method\n",
    "(defn sqrt-iter\n",
    "  [guess x]\n",
    "  (if (good-enough? guess x)\n",
    "    guess\n",
    "    (sqrt-iter (improve guess x) x)))\n",
    "\n",
    "(defn sqrt [x] (sqrt-iter 1.0 x))\n",
    "\n",
    "(sqrt 9) \n",
    ";; 3.00009155413138 \n",
    "(sqrt (+ 100 37))\n",
    ";; 11.704699917758145\n",
    "\n",
    ";; Exercise 1.6 \n",
    "(defn new-if \n",
    "  [predicate then-clause else-clause]\n",
    "  (cond predicate then-clause\n",
    "        :else else-clause))    \n",
    "\n",
    "(new-if (= 2 3) 0 5) ;; 5\n",
    "  \n",
    "(defn sqrt-iter-2\n",
    "  [guess x]\n",
    "  (new-if (good-enough? guess x)\n",
    "    guess\n",
    "    (sqrt-iter-2 (improve guess x) x)))\n",
    "\n",
    ";; (sqrt-iter-2 1.0 2.0)"
   ]
  },
  {
   "cell_type": "markdown",
   "metadata": {},
   "source": [
    "In Scheme, `sqrt-iter-2` which used new-if won't work, as when it evaluate `new-if`'s oprand, it will recursively call `sqrt-iter-2` again which will then try to evaluate `new-if` again. Hence infinit loop. It will get a stack overflow. "
   ]
  },
  {
   "cell_type": "code",
   "execution_count": 21,
   "metadata": {},
   "outputs": [
    {
     "data": {
      "text/plain": [
       "1.1100000090010948E9"
      ]
     },
     "execution_count": 21,
     "metadata": {},
     "output_type": "execute_result"
    }
   ],
   "source": [
    "; Exercise 1.7 \n",
    "(sqrt 0.00000001)\n",
    "; 0.03125010656242753\n",
    "(* (sqrt 0.00000001) (sqrt 0.00000001))\n",
    "; 9.76569160163076E-4\n",
    "; We can tell that with small number, we got bad precision.\n",
    "(sqrt 1110000009.001)\n",
    "; 33316.66263298434\n",
    "(* (sqrt 1110000009.001) (sqrt 1110000009.001))\n",
    "; 1.1100000090000951E9"
   ]
  },
  {
   "cell_type": "code",
   "execution_count": 23,
   "metadata": {},
   "outputs": [
    {
     "data": {
      "text/plain": [
       "#'user/cbrt"
      ]
     },
     "execution_count": 23,
     "metadata": {},
     "output_type": "execute_result"
    }
   ],
   "source": [
    "; Exercise 1.8 \n",
    "(defn cbrt [x]\n",
    "  (letfn [(cbrt-iter [guess x]\n",
    "            (letfn [(cube [x] (Math/pow x 3))\n",
    "                    (good-enough? [guess x]\n",
    "                      (< (Math/abs (- (cube guess) x)) 0.001))\n",
    "                    (improve [guess x]\n",
    "                      (/ (+ (/ x (* guess guess))\n",
    "                            (* 2 guess))\n",
    "                         3))])\n",
    "            (if (good-enough? guess x)\n",
    "              guess\n",
    "              (cbrt-iter (improve guess x) x)))]\n",
    "    (cbrt-iter 1.0 x)))"
   ]
  },
  {
   "cell_type": "markdown",
   "metadata": {},
   "source": [
    "### 1.1.8 Procedures as Black-Box Abstractions\n",
    "\n",
    "In Clojure Internal definitions is done using `def` and `defn` , while in Scheme, the are all `define`. I think that is some really good and simple. In the end, `define` just bind something (data or procedure) to a name to achieve the simplest abstraction.\n",
    "\n",
    "Note that Clojure is `lexical scoping` as well, meaning in following example, `x` inside the `good-enough?` function is from the outer layer."
   ]
  },
  {
   "cell_type": "code",
   "execution_count": 28,
   "metadata": {},
   "outputs": [
    {
     "data": {
      "text/plain": [
       "false"
      ]
     },
     "execution_count": 28,
     "metadata": {},
     "output_type": "execute_result"
    }
   ],
   "source": [
    "(defn sqrt-2 [x]\n",
    "    (defn good-enough? [guess]\n",
    "        (< (abs (- (* guess guess) x)) 0.001))\n",
    "    (good-enough? 1))\n",
    "(sqrt-2 0.1)"
   ]
  }
 ],
 "metadata": {
  "kernelspec": {
   "display_name": "Lein-Clojure",
   "language": "clojure",
   "name": "lein-clojure"
  },
  "language_info": {
   "file_extension": ".clj",
   "mimetype": "text/x-clojure",
   "name": "clojure",
   "version": "1.10.1"
  }
 },
 "nbformat": 4,
 "nbformat_minor": 4
}
