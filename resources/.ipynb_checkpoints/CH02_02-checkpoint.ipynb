{
 "cells": [
  {
   "cell_type": "markdown",
   "metadata": {},
   "source": [
    "## 1.2 Procedures and the Processes They Generate\n",
    "\n",
    "> A procedure is a pattern for the local evolution of a computational process.It specifies how each stage of the process is built upon the previous stage. \n",
    "\n",
    "It is difficult to do in general, but one could see some typical patterns. \n",
    "\n",
    "### 1.2.1 Linear Recursion and Iteration\n",
    "\n",
    "Good old factorial:\n",
    "\n",
    "$$n! = n*(n-1)!$$"
   ]
  },
  {
   "cell_type": "code",
   "execution_count": 10,
   "metadata": {},
   "outputs": [
    {
     "data": {
      "text/plain": [
       "720"
      ]
     },
     "execution_count": 10,
     "metadata": {},
     "output_type": "execute_result"
    }
   ],
   "source": [
    "; linear recursion (stack grows linearly)\n",
    "(defn factorial [n]\n",
    "    (if (= n 1)\n",
    "        1\n",
    "        (* n (factorial (- n 1)))))\n",
    "(factorial 6)"
   ]
  },
  {
   "cell_type": "code",
   "execution_count": 14,
   "metadata": {},
   "outputs": [
    {
     "data": {
      "text/plain": [
       "720"
      ]
     },
     "execution_count": 14,
     "metadata": {},
     "output_type": "execute_result"
    }
   ],
   "source": [
    "; liner iteration (tail recursion)\n",
    "(defn factorial-it\n",
    "  [n]\n",
    "  (defn fact-iter\n",
    "     [product counter max-count]\n",
    "     (if (> counter max-count)\n",
    "       product\n",
    "       (fact-iter (* counter product) (+ counter 1) max-count)))\n",
    "  (fact-iter 1 1 n))\n",
    "\n",
    "(factorial-it 6)"
   ]
  },
  {
   "cell_type": "markdown",
   "metadata": {},
   "source": [
    "**Note that recursive procedure and recursive process are not necessary the same thing.** \n",
    "However in Clojure, there is not tail-recursion optimization bydefault. a recursive procedure does mean a recusive process which take increasing stack space."
   ]
  },
  {
   "cell_type": "markdown",
   "metadata": {},
   "source": [
    "Exercise 1.9: Each of the following two procedures defines a method for adding two positive integers in terms of the procedures inc, which increments its argument by 1, and dec, which decrements its argument by 1.\n",
    "```\n",
    "; iterative\n",
    "(define (+ a b)\n",
    "  (if (= a 0) b (inc (+ (dec a) b))))\n",
    "; recursive\n",
    "(define (+ a b)\n",
    "  (if (= a 0) b (+ (dec a) (inc b))))\n",
    "```"
   ]
  },
  {
   "cell_type": "markdown",
   "metadata": {},
   "source": [
    "### 1.2.2 Tree Recursion\n",
    "\n",
    "Our good old Fibonacci:"
   ]
  },
  {
   "cell_type": "code",
   "execution_count": 2,
   "metadata": {},
   "outputs": [
    {
     "data": {
      "text/plain": [
       "8"
      ]
     },
     "execution_count": 2,
     "metadata": {},
     "output_type": "execute_result"
    }
   ],
   "source": [
    "; tree recursion\n",
    "; fibonacci\n",
    "(defn fib \n",
    "  [n]\n",
    "  (cond (= n 0) 0\n",
    "        (= n 1) 1 \n",
    "        :else (+ (fib (- n 1)) \n",
    "                 (fib (- n 2)))))\n",
    "\n",
    "(fib 6)\n",
    "\n",
    "(defn fib-it\n",
    "  \"a <- a + b; b <- a\"\n",
    "  [n]\n",
    "  (defn fib-iter \n",
    "     [a b count]\n",
    "     (if (= count 0)\n",
    "       b\n",
    "       (fib-iter (+ a b) a (- count 1))))\n",
    "  (fib-iter 1 0 n))\n",
    "  \n",
    "(fib-it 6)"
   ]
  },
  {
   "cell_type": "markdown",
   "metadata": {},
   "source": [
    "Example: Counting change\n",
    "\n",
    "How many different ways can we make change of $1.00, given half-dollars, quarters, dimes, nickels, and pennies?\n",
    "\n",
    "total ways = way using first kind of coin + ways does not use the first kind of coin."
   ]
  },
  {
   "cell_type": "code",
   "execution_count": 9,
   "metadata": {
    "scrolled": true
   },
   "outputs": [
    {
     "data": {
      "text/plain": [
       "292"
      ]
     },
     "execution_count": 9,
     "metadata": {},
     "output_type": "execute_result"
    }
   ],
   "source": [
    "(defn first-denomination\n",
    "    [kinds-of-coins]\n",
    "    (cond \n",
    "        (= kinds-of-coins 1) 1\n",
    "        (= kinds-of-coins 2) 5\n",
    "        (= kinds-of-coins 3) 10\n",
    "        (= kinds-of-coins 4) 25\n",
    "        (= kinds-of-coins 5) 50))\n",
    "\n",
    "; (first-denomination 1)\n",
    "; 1\n",
    "(defn cc [amount kinds-of-coins]\n",
    "    (cond \n",
    "        (= amount 0) 1\n",
    "        (or (< amount 0) (= kinds-of-coins 0)) 0\n",
    "        :else (+ (cc amount \n",
    "                     (- kinds-of-coins 1))\n",
    "                 (cc (- amount (first-denomination kinds-of-coins)) \n",
    "                     kinds-of-coins))))\n",
    "\n",
    "(cc 100 5)"
   ]
  },
  {
   "cell_type": "code",
   "execution_count": 10,
   "metadata": {},
   "outputs": [
    {
     "data": {
      "text/plain": [
       "11"
      ]
     },
     "execution_count": 10,
     "metadata": {},
     "output_type": "execute_result"
    }
   ],
   "source": [
    "; Exercise 1.11\n",
    "(defn f-rec [n]\n",
    "  (cond (< n 3) n\n",
    "        :else (+ (f-rec (- n 1))\n",
    "                 (* 2 (f-rec (- n 2)))\n",
    "                 (* 3 (f-rec (- n 3))))))\n",
    "\n",
    "(defn f-itr [n]\n",
    "  (defn iter [m f-prev f-pre-prev f-pre-pre-prev]\n",
    "    (def f-this (+ f-prev (* 2 f-pre-prev) (* 3 f-pre-pre-prev)))\n",
    "    (if (= m n)\n",
    "      f-this\n",
    "      (iter (inc m) f-this f-prev f-pre-prev)))\n",
    "  (if (< n 3)\n",
    "    n\n",
    "    (iter 3 2 1 0)))\n",
    "\n",
    "(f-itr 4)\n",
    "(f-rec 4)"
   ]
  },
  {
   "cell_type": "markdown",
   "metadata": {},
   "source": [
    "The pattern to convert a revursive procedure to a iterative one is to add a counter and explictly list all the internal states. The counter serves as a indicator of stop, and internal states will be update at each recursive call."
   ]
  },
  {
   "cell_type": "code",
   "execution_count": 11,
   "metadata": {},
   "outputs": [
    {
     "data": {
      "text/plain": [
       "(1 1 1 1 2 1 1 3 3 1 1 4 6 4 1 1 5 10 10 5 1 1 6 15 20 15 6 1 1 7 21 35 35 21 7 1 1 8 28 56 70 56 28 8 1 1 9 36 84 126 126 84 36 9 1)"
      ]
     },
     "execution_count": 11,
     "metadata": {},
     "output_type": "execute_result"
    }
   ],
   "source": [
    "; Exercise 1.12 \n",
    "(defn pascal [row col]\n",
    "  (cond (= row 0) (if (= col 0) 1 (throw (Exception. \"Out of range\")))\n",
    "        (= col 0)   1\n",
    "        (= row col) 1\n",
    "        (> row 1) (if (or (< col 0) (> col row)) \n",
    "                    (throw (Exception. \"Out of range\"))\n",
    "                    (+ (pascal (dec row) (dec col))\n",
    "                       (pascal (dec row) col)))\n",
    "        :else (throw (Exception. \"Out of range\"))))\n",
    "\n",
    "(for [row (range 0 10)\n",
    "      col (range 0 (inc row))]\n",
    "  (pascal row col))"
   ]
  }
 ],
 "metadata": {
  "kernelspec": {
   "display_name": "Lein-Clojure",
   "language": "clojure",
   "name": "lein-clojure"
  },
  "language_info": {
   "file_extension": ".clj",
   "mimetype": "text/x-clojure",
   "name": "clojure",
   "version": "1.10.1"
  }
 },
 "nbformat": 4,
 "nbformat_minor": 4
}
