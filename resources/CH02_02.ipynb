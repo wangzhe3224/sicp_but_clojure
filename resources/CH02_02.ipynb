{
 "cells": [
  {
   "cell_type": "markdown",
   "metadata": {},
   "source": [
    "## 2.2 Hierarchical Data and the Closure Property\n",
    "\n",
    "An operation for combining data objects satisfies the **Closure property** if the result of \n",
    "combining things with that operation can themselves be combined using the same operation.\n",
    "\n",
    "Closure is the key to power in any means of combination, because it permits us to create \n",
    "hierarchical structures.\n",
    "\n",
    "> It is better to have 100 functions operate on one data structure than to have 10 functions operate on 10 data structures."
   ]
  },
  {
   "cell_type": "code",
   "execution_count": 2,
   "metadata": {},
   "outputs": [
    {
     "name": "stdout",
     "output_type": "stream",
     "text": [
      "WARNING: cons already refers to: #'clojure.core/cons in namespace: user, being replaced by: #'user/cons\n"
     ]
    },
    {
     "data": {
      "text/plain": [
       "#'user/cdr"
      ]
     },
     "execution_count": 2,
     "metadata": {},
     "output_type": "execute_result"
    }
   ],
   "source": [
    "(defn cons [x y]\n",
    "  (fn [m] (m x y)))\n",
    "(defn car [lst]\n",
    "  (lst (fn [x y] x)))\n",
    "(defn cdr [lst]\n",
    "  (lst (fn [x y] y)))"
   ]
  },
  {
   "cell_type": "code",
   "execution_count": 3,
   "metadata": {},
   "outputs": [
    {
     "data": {
      "text/plain": [
       "#function[user/cons/fn--10843]"
      ]
     },
     "execution_count": 3,
     "metadata": {},
     "output_type": "execute_result"
    }
   ],
   "source": [
    "(cons (cons 1 2) (cons 3 4))"
   ]
  },
  {
   "cell_type": "code",
   "execution_count": 7,
   "metadata": {},
   "outputs": [
    {
     "data": {
      "text/plain": [
       "(4 6)"
      ]
     },
     "execution_count": 7,
     "metadata": {},
     "output_type": "execute_result"
    }
   ],
   "source": [
    "; Exercise 2.17\n",
    "(defn last-pair [lst] (last lst))\n",
    "(last-pair [1 2 3])\n",
    "\n",
    "; Exercise 2.18\n",
    "(defn rev [lst]\n",
    "   (loop [c lst \n",
    "          acc '()]\n",
    "     (if c (recur (next c)\n",
    "                  (conj acc (first c)))  \n",
    "         acc)))\n",
    "(rev [1, 2, 3, [1,2]])\n",
    "\n",
    "\n",
    "; Exercise 2.19 \n",
    "(def us-coins [50, 25, 10, 5, 1])\n",
    "(def uk-coins [100, 50, 20, 10, 5, 2, 1, 0.5])\n",
    "(def no-more? nil?)\n",
    "(def except-first-denomination next)\n",
    "(def first-denomination first)\n",
    "(defn cc [amount coin-values]\n",
    "  (cond (= amount 0) 1\n",
    "        (or (< amount 0) (no-more? coin-values)) 0\n",
    "        :else (+ (cc amount \n",
    "                     (except-first-denomination coin-values))\n",
    "                 (cc (- amount (first-denomination coin-values))\n",
    "                     coin-values))))\n",
    "\n",
    "(cc 100 us-coins)\n",
    "; 292\n",
    "\n",
    "; Exercise 2.20 \n",
    "(defn same-parity [x & xs]\n",
    "  cons x (filter (if (even? x) even? odd?) xs))\n",
    "(same-parity 1 2 3 4 5)\n",
    "(same-parity 2 3 4 5 6)"
   ]
  },
  {
   "cell_type": "markdown",
   "metadata": {},
   "source": [
    "**Exercise 2.22**\n",
    "\n",
    "The first solution, order is revered. It can be found by using the subsistute model. The second solution wont work neither, as the result will be in this pattern `(cons (cons ...) ..)`"
   ]
  },
  {
   "cell_type": "code",
   "execution_count": 8,
   "metadata": {},
   "outputs": [
    {
     "name": "stdout",
     "output_type": "stream",
     "text": [
      "1\n",
      "2\n",
      "3\n"
     ]
    },
    {
     "data": {
      "text/plain": [
       "(nil nil nil)"
      ]
     },
     "execution_count": 8,
     "metadata": {},
     "output_type": "execute_result"
    }
   ],
   "source": [
    "; Exercise 2.23\n",
    "(defn for-each-lazy [f coll]\n",
    "  (map f coll))\n",
    "(defn for-each-strict [f coll]\n",
    "  (doall (for-each-lazy f coll)))\n",
    "\n",
    "(for-each-strict (fn [x] (println x)) '(1 2 3))"
   ]
  },
  {
   "cell_type": "markdown",
   "metadata": {},
   "source": [
    "As we already see that **Data Abstraction** give us ability to work on the data without knowing its implementation, and the also gives us ability to use different implementation/representation of the data. \n",
    "\n",
    "Now, we are going through a new techneque **Conventioanl Interfaces**.\n",
    "\n",
    "The value of expressing programs as sequence operations is that this helps us make program designs that are modular.\n",
    "\n",
    "> We can encourage modular design by providing a library of standard components together with a conventional interface for connecting the components in flexible ways.\n",
    "\n",
    "**Sequences** serves as a conventioanl interface that permist us to combine processing modules. By uniforming the representation to a sequence, we limit our program to a small set of operations, such as map, filter, reduce.\n",
    "\n",
    "In this section, Sequency is represented as list, but we could use other reprensentation.\n",
    "\n",
    "Bascally, here we are talking about map, filter and fold functions. And in the end, it is all about fold. techniquely, we can make any data type foldable. "
   ]
  },
  {
   "cell_type": "code",
   "execution_count": 4,
   "metadata": {},
   "outputs": [
    {
     "data": {
      "text/plain": [
       "((5 3 1 6 4 2) (4 1 5 2 6 3) (3 6 2 5 1 4) (2 4 6 1 3 5))"
      ]
     },
     "execution_count": 4,
     "metadata": {},
     "output_type": "execute_result"
    }
   ],
   "source": [
    "(comment\n",
    "  \"\n",
    "  2.2.2 Hierarchical Sturctures\n",
    "  Map, fold, filter still powerful in nested structures, like trees and graph.\n",
    "  \")\n",
    "\n",
    "(defn count-leaves [x]\n",
    "  (cond (nil? x) 0 \n",
    "        (not (list? x)) 1))\n",
    "\n",
    "(count-leaves '()) \n",
    "\n",
    "\n",
    "; Exercise 2.33 \n",
    "(defn map' [f xs]\n",
    "  (reduce #(concat %1 (list (f %2))) '() xs))\n",
    "(defn append' [coll1 coll2]\n",
    "  (reduce conj coll2 (reverse coll1))) \n",
    "(defn length' [coll]\n",
    "  (reduce (fn [acc x] (+ 1 acc)) 0 coll))\n",
    "\n",
    "(map' #(* 2 %1) '(1 2 3))\n",
    "(append' '(1 2 3) '(1 2 3))\n",
    "(length' '(1 2))\n",
    "\n",
    "; Exercise 2.34\n",
    "(defn foldr [func init coll]\n",
    "  (if (nil? coll) init \n",
    "    (func (first coll)\n",
    "          (foldr func init (next coll)))))\n",
    "\n",
    "(defn horner-eval [x coefficient-sequence]\n",
    "  (foldr #(+ (* %2 x) %1) 0 coefficient-sequence))\n",
    "\n",
    "(horner-eval 2 '(1 3 0 5 0 1))\n",
    "\n",
    "; Exercise 2.36 \n",
    "(defn accumulate [op init coll]\n",
    "  (if (nil? coll) init\n",
    "    ((println coll)\n",
    "     (op (first coll)\n",
    "         (accumulate op init (next coll))))))\n",
    "(defn accumulate-n [op init coll]\n",
    "  (if (nil? (first coll))\n",
    "    nil \n",
    "    (cons (accumulate op init (map first coll))\n",
    "          (accumulate-n op init (map next coll)))))\n",
    "\n",
    "(def s1 '( '(1 2 3) '(4 5 6)))\n",
    "\n",
    "; Exercise 2.37 \n",
    "(defn dot-product [v w]\n",
    "  (reduce + 0 (map * v w)))\n",
    "(defn matrix-*-vector [m v]\n",
    "  (map (partial dot-product v) m))\n",
    "(defn transpose [mat] \n",
    "  (accumulate-n cons nil mat))\n",
    "(defn matrix-*-matrix [m n]\n",
    "  (let [cols (transpose n)]\n",
    "    (map (fn [row] (map #(dot-product row %) cols)) m)))\n",
    "  \n",
    "(comment \n",
    "  \"\n",
    "  Nested Mappings\n",
    "  \")\n",
    "\n",
    "; Exercise 2.40 \n",
    "(defn unique-pairs [n]\n",
    "  (mapcat (fn [x]\n",
    "            (map (partial list x) (range (inc x) (inc n))))\n",
    "          (range 1 n)))\n",
    "\n",
    "(unique-pairs 5)\n",
    "; ((1 2) (1 3) (1 4) (1 5) (2 3) (2 4) (2 5) (3 4) (3 5) (4 5))\n",
    "\n",
    "; Exercise 2.41 \n",
    "(defn triples [n]\n",
    "  (for [x (range 1 (dec n))\n",
    "        y (range (inc x) n)\n",
    "        z (range (inc y) (inc n))]\n",
    "    [x y z]))\n",
    "\n",
    "; Exercise 2.42 Eight-queens\n",
    "(def empty-board '())\n",
    "\n",
    "(defn safe? [positions]\n",
    "  (let [[queen-pos & left] positions\n",
    "        k (count positions)\n",
    "        diags-up (map - left (range 1 (inc k)))\n",
    "        diags-down (map + left (range 1 (inc k)))]\n",
    "    (empty? (filter (partial = queen-pos) (concat diags-up diags-down left)))))\n",
    "  \n",
    "(defn queens [board-size]\n",
    "  ((fn queen-cols [k]\n",
    "     (if (zero? k)\n",
    "       (list empty-board)\n",
    "       (for [rest-of-queens (queen-cols (dec k))\n",
    "             new-row (range 1 (inc board-size))\n",
    "             :let [new-cols (cons new-row rest-of-queens)]\n",
    "             :when (safe? new-cols)]\n",
    "         new-cols)))\n",
    "   board-size))\n",
    "\n",
    "(queens 6)"
   ]
  },
  {
   "cell_type": "markdown",
   "metadata": {},
   "source": [
    "**The Picture Language**\n",
    "\n",
    "Describe the language by three aspects:\n",
    "- primitives\n",
    "- means of combination\n",
    "- means of abstraction\n",
    "\n",
    "The closure of data under the means of combination is crucial to the ability to create complex structures while using only a few operations.\n",
    "\n",
    "**Levels of language for robust design**\n",
    "\n",
    "Or using layers to design system. Each layer has a \"language\" which has: primitives, means of combination, means of abstraction. This kind of system is easy to modify. In general, each level of a stratified design provides a different vocabulary for express- ing the characteristics of the system, and a different kind of ability to change it."
   ]
  },
  {
   "cell_type": "code",
   "execution_count": null,
   "metadata": {},
   "outputs": [],
   "source": []
  }
 ],
 "metadata": {
  "kernelspec": {
   "display_name": "Lein-Clojure",
   "language": "clojure",
   "name": "lein-clojure"
  },
  "language_info": {
   "file_extension": ".clj",
   "mimetype": "text/x-clojure",
   "name": "clojure",
   "version": "1.10.1"
  }
 },
 "nbformat": 4,
 "nbformat_minor": 4
}
